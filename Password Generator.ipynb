{
 "cells": [
  {
   "cell_type": "code",
   "execution_count": 8,
   "metadata": {},
   "outputs": [
    {
     "name": "stdout",
     "output_type": "stream",
     "text": [
      "Please enter your email:\n",
      "g\n",
      "Your Generated password is:\n"
     ]
    },
    {
     "data": {
      "text/plain": [
       "'!Rvlr10hU'"
      ]
     },
     "execution_count": 8,
     "metadata": {},
     "output_type": "execute_result"
    }
   ],
   "source": [
    "import random\n",
    "from random import randrange\n",
    "lower = ['a', 'b', 'c', 'd', 'e', 'f', 'g', 'h', 'i', 'j', 'k', 'l', 'm', 'n', 'o', 'p', 'q', 'r', 's', 't', 'u', 'v', 'w', 'x', 'y', 'z']\n",
    "upper = ['A', 'B', 'C', 'D', 'E', 'F', 'G', 'H', 'I', 'J', 'K', 'L', 'M', 'N', 'O', 'P', 'Q', 'R', 'S', 'T', 'U', 'V', 'W', 'X', 'Y', 'Z']\n",
    "special = ['&', '!', '*', '?']\n",
    "numeric = ['1', '2', '3', '4', '5', '6', '7', '8', '9', '10']\n",
    "passwordArray = []\n",
    "\n",
    "print(\"Please enter your email:\")\n",
    "input()\n",
    "\n",
    "def ShuffleArray():\n",
    "    passwordArray = [random.choice(lower), random.choice(upper),random.choice(special),random.choice(numeric),random.choice(lower), random.choice(upper),random.choice(special),random.choice(numeric)]\n",
    "    return passwordArray \n",
    "\n",
    "def passwordGenerator():\n",
    "    password = ''\n",
    "    for i in range(0,8):\n",
    "        passwordArray = ShuffleArray()\n",
    "        password += random.choice(passwordArray)       \n",
    "    return password\n",
    "print(\"Your Generated password is:\")\n",
    "passwordGenerator()"
   ]
  },
  {
   "cell_type": "code",
   "execution_count": null,
   "metadata": {},
   "outputs": [],
   "source": []
  }
 ],
 "metadata": {
  "kernelspec": {
   "display_name": "Python 3",
   "language": "python",
   "name": "python3"
  },
  "language_info": {
   "codemirror_mode": {
    "name": "ipython",
    "version": 3
   },
   "file_extension": ".py",
   "mimetype": "text/x-python",
   "name": "python",
   "nbconvert_exporter": "python",
   "pygments_lexer": "ipython3",
   "version": "3.8.3"
  }
 },
 "nbformat": 4,
 "nbformat_minor": 4
}
